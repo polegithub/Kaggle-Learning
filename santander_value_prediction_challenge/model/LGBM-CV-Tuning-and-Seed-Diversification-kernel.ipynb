{
 "cells": [
  {
   "cell_type": "markdown",
   "metadata": {
    "_uuid": "9cf11d0446f8b35daeafc0a085566083929419a8"
   },
   "source": [
    "## LGBM CV Tuning and Seed Diversification\n",
    "_By Nick Brooks, June 2018_\n",
    "\n",
    "Inspiration for this kernel is from [@Silogram](https://www.kaggle.com/psilogram)'s [Post](https://www.kaggle.com/c/home-credit-default-risk/discussion/58332)."
   ]
  },
  {
   "cell_type": "code",
   "execution_count": 20,
   "metadata": {
    "_uuid": "f3ae27d2f6c11d8100dd600dbb9ffaabd55d8c25",
    "scrolled": true
   },
   "outputs": [
    {
     "name": "stdout",
     "output_type": "stream",
     "text": [
      "Data Load Stage\n",
      "Train shape: 4459 Rows, 4991 Columns\n",
      "Test shape: 49343 Rows, 4991 Columns\n",
      "Combine Train and Test\n",
      "\n",
      "All Data shape: 53802 Rows, 4991 Columns\n"
     ]
    }
   ],
   "source": [
    "import time\n",
    "notebookstart= time.time()\n",
    "\n",
    "import numpy as np # linear algebra\n",
    "import pandas as pd # data processing, CSV file I/O (e.g. pd.read_csv)\n",
    "import os\n",
    "import gc\n",
    "import random\n",
    "random.seed(2018)\n",
    "\n",
    "# Models Packages\n",
    "from sklearn import metrics\n",
    "from sklearn.metrics import mean_squared_error\n",
    "from sklearn import feature_selection\n",
    "from sklearn.model_selection import train_test_split\n",
    "from IPython.display import display\n",
    "\n",
    "# Gradient Boosting\n",
    "import lightgbm as lgb\n",
    "\n",
    "# Visualization\n",
    "import seaborn as sns\n",
    "import matplotlib.pyplot as plt\n",
    "get_ipython().magic('matplotlib inline')\n",
    "\n",
    "# Specify index/ target name\n",
    "id_col = \"ID\"\n",
    "target_var = \"target\"\n",
    "\n",
    "# House Keeping Parameters\n",
    "Debug = False\n",
    "Home = False\n",
    "Build_Results_csv = False # if running for first time\n",
    "\n",
    "results = pd.DataFrame(columns = [\"Rounds\",\"Score\",\"STDV\", \"LB\", \"Parameters\"])\n",
    "if Build_Results_csv is True & Home is True: results.to_csv(\"results.csv\")\n",
    "if Home is True:\n",
    "    import os\n",
    "    path = r\"D:\\My Computer\\DATA\\Santander\"\n",
    "    os.chdir(path)\n",
    "    \n",
    "    print(\"Data Load Stage\")\n",
    "    training = pd.read_csv('train.csv', index_col = id_col)\n",
    "    if Debug is True : training = training.sample(100)\n",
    "    traindex = training.index\n",
    "    testing = pd.read_csv('test.csv', index_col = id_col)\n",
    "    if Debug is True : testing = testing.sample(100)\n",
    "    testdex = testing.index\n",
    "else:\n",
    "    print(\"Data Load Stage\")\n",
    "    training = pd.read_csv('../input/train.csv', index_col = id_col)\n",
    "    if Debug is True : training = training.sample(100)\n",
    "    traindex = training.index\n",
    "    testing = pd.read_csv('../input/test.csv', index_col = id_col)\n",
    "    if Debug is True : testing = testing.sample(100)\n",
    "    testdex = testing.index\n",
    "\n",
    "y = np.log1p(training[target_var])\n",
    "training.drop(target_var,axis=1, inplace=True)\n",
    "print('Train shape: {} Rows, {} Columns'.format(*training.shape))\n",
    "print('Test shape: {} Rows, {} Columns'.format(*testing.shape))\n",
    "\n",
    "print(\"Combine Train and Test\")\n",
    "df = pd.concat([training,testing],axis=0)\n",
    "del training, testing\n",
    "gc.collect()\n",
    "print('\\nAll Data shape: {} Rows, {} Columns'.format(*df.shape))"
   ]
  },
  {
   "cell_type": "code",
   "execution_count": 21,
   "metadata": {
    "_uuid": "6c07581b2cd588cd571bc7e6a74455bea15fba76"
   },
   "outputs": [
    {
     "name": "stdout",
     "output_type": "stream",
     "text": [
      "Starting LightGBM. Train shape: (49343, 4991), Test shape: (49343, 4991)\n",
      "Feature Num:  4991\n"
     ]
    }
   ],
   "source": [
    "# Modeling Datasets\n",
    "test_df = df.loc[testdex,:]\n",
    "vocab = df.columns\n",
    "\n",
    "# LGBM Dataset\n",
    "lgtrain = lgb.Dataset(df.loc[traindex,vocab],y ,feature_name = \"auto\")\n",
    "print(\"Starting LightGBM. Train shape: {}, Test shape: {}\".format(df.loc[testdex,:].shape,test_df.shape))\n",
    "print(\"Feature Num: \",len(vocab))\n",
    "# del df; \n",
    "# gc.collect();"
   ]
  },
  {
   "cell_type": "markdown",
   "metadata": {
    "_uuid": "5a7c25462528493a447219728b03bcfb2cdf41bd"
   },
   "source": [
    "## Modeling Stage"
   ]
  },
  {
   "cell_type": "code",
   "execution_count": 22,
   "metadata": {
    "_uuid": "1c43324b7c5dfc9e31e94f40a32a2c4ed146b84d"
   },
   "outputs": [
    {
     "name": "stdout",
     "output_type": "stream",
     "text": [
      "Light Gradient Boosting Regressor: \n"
     ]
    },
    {
     "ename": "ValueError",
     "evalue": "Found input variables with inconsistent numbers of samples: [53802, 4459]",
     "output_type": "error",
     "traceback": [
      "\u001b[0;31m---------------------------------------------------------------------------\u001b[0m",
      "\u001b[0;31mValueError\u001b[0m                                Traceback (most recent call last)",
      "\u001b[0;32m<ipython-input-22-b0f69bddab18>\u001b[0m in \u001b[0;36m<module>\u001b[0;34m()\u001b[0m\n\u001b[1;32m      2\u001b[0m \u001b[0;31m# t=np.log1p(target)\u001b[0m\u001b[0;34m\u001b[0m\u001b[0;34m\u001b[0m\u001b[0m\n\u001b[1;32m      3\u001b[0m \u001b[0;34m\u001b[0m\u001b[0m\n\u001b[0;32m----> 4\u001b[0;31m \u001b[0mX_train\u001b[0m\u001b[0;34m,\u001b[0m \u001b[0mX_val\u001b[0m\u001b[0;34m,\u001b[0m \u001b[0my_train\u001b[0m\u001b[0;34m,\u001b[0m \u001b[0my_val\u001b[0m \u001b[0;34m=\u001b[0m \u001b[0mtrain_test_split\u001b[0m\u001b[0;34m(\u001b[0m\u001b[0mdf\u001b[0m\u001b[0;34m,\u001b[0m \u001b[0my\u001b[0m\u001b[0;34m,\u001b[0m \u001b[0mtest_size\u001b[0m\u001b[0;34m=\u001b[0m\u001b[0;36m0.2\u001b[0m\u001b[0;34m,\u001b[0m \u001b[0mrandom_state\u001b[0m\u001b[0;34m=\u001b[0m\u001b[0;36m0\u001b[0m\u001b[0;34m)\u001b[0m\u001b[0;34m\u001b[0m\u001b[0m\n\u001b[0m\u001b[1;32m      5\u001b[0m \u001b[0;34m\u001b[0m\u001b[0m\n\u001b[1;32m      6\u001b[0m \u001b[0mtrain_data\u001b[0m\u001b[0;34m=\u001b[0m\u001b[0mlightgbm\u001b[0m\u001b[0;34m.\u001b[0m\u001b[0mDataset\u001b[0m\u001b[0;34m(\u001b[0m\u001b[0mX_train\u001b[0m\u001b[0;34m,\u001b[0m\u001b[0my_train\u001b[0m\u001b[0;34m)\u001b[0m\u001b[0;34m\u001b[0m\u001b[0m\n",
      "\u001b[0;32m~/anaconda3/lib/python3.6/site-packages/sklearn/model_selection/_split.py\u001b[0m in \u001b[0;36mtrain_test_split\u001b[0;34m(*arrays, **options)\u001b[0m\n\u001b[1;32m   2029\u001b[0m         \u001b[0mtest_size\u001b[0m \u001b[0;34m=\u001b[0m \u001b[0;36m0.25\u001b[0m\u001b[0;34m\u001b[0m\u001b[0m\n\u001b[1;32m   2030\u001b[0m \u001b[0;34m\u001b[0m\u001b[0m\n\u001b[0;32m-> 2031\u001b[0;31m     \u001b[0marrays\u001b[0m \u001b[0;34m=\u001b[0m \u001b[0mindexable\u001b[0m\u001b[0;34m(\u001b[0m\u001b[0;34m*\u001b[0m\u001b[0marrays\u001b[0m\u001b[0;34m)\u001b[0m\u001b[0;34m\u001b[0m\u001b[0m\n\u001b[0m\u001b[1;32m   2032\u001b[0m \u001b[0;34m\u001b[0m\u001b[0m\n\u001b[1;32m   2033\u001b[0m     \u001b[0;32mif\u001b[0m \u001b[0mshuffle\u001b[0m \u001b[0;32mis\u001b[0m \u001b[0;32mFalse\u001b[0m\u001b[0;34m:\u001b[0m\u001b[0;34m\u001b[0m\u001b[0m\n",
      "\u001b[0;32m~/anaconda3/lib/python3.6/site-packages/sklearn/utils/validation.py\u001b[0m in \u001b[0;36mindexable\u001b[0;34m(*iterables)\u001b[0m\n\u001b[1;32m    227\u001b[0m         \u001b[0;32melse\u001b[0m\u001b[0;34m:\u001b[0m\u001b[0;34m\u001b[0m\u001b[0m\n\u001b[1;32m    228\u001b[0m             \u001b[0mresult\u001b[0m\u001b[0;34m.\u001b[0m\u001b[0mappend\u001b[0m\u001b[0;34m(\u001b[0m\u001b[0mnp\u001b[0m\u001b[0;34m.\u001b[0m\u001b[0marray\u001b[0m\u001b[0;34m(\u001b[0m\u001b[0mX\u001b[0m\u001b[0;34m)\u001b[0m\u001b[0;34m)\u001b[0m\u001b[0;34m\u001b[0m\u001b[0m\n\u001b[0;32m--> 229\u001b[0;31m     \u001b[0mcheck_consistent_length\u001b[0m\u001b[0;34m(\u001b[0m\u001b[0;34m*\u001b[0m\u001b[0mresult\u001b[0m\u001b[0;34m)\u001b[0m\u001b[0;34m\u001b[0m\u001b[0m\n\u001b[0m\u001b[1;32m    230\u001b[0m     \u001b[0;32mreturn\u001b[0m \u001b[0mresult\u001b[0m\u001b[0;34m\u001b[0m\u001b[0m\n\u001b[1;32m    231\u001b[0m \u001b[0;34m\u001b[0m\u001b[0m\n",
      "\u001b[0;32m~/anaconda3/lib/python3.6/site-packages/sklearn/utils/validation.py\u001b[0m in \u001b[0;36mcheck_consistent_length\u001b[0;34m(*arrays)\u001b[0m\n\u001b[1;32m    202\u001b[0m     \u001b[0;32mif\u001b[0m \u001b[0mlen\u001b[0m\u001b[0;34m(\u001b[0m\u001b[0muniques\u001b[0m\u001b[0;34m)\u001b[0m \u001b[0;34m>\u001b[0m \u001b[0;36m1\u001b[0m\u001b[0;34m:\u001b[0m\u001b[0;34m\u001b[0m\u001b[0m\n\u001b[1;32m    203\u001b[0m         raise ValueError(\"Found input variables with inconsistent numbers of\"\n\u001b[0;32m--> 204\u001b[0;31m                          \" samples: %r\" % [int(l) for l in lengths])\n\u001b[0m\u001b[1;32m    205\u001b[0m \u001b[0;34m\u001b[0m\u001b[0m\n\u001b[1;32m    206\u001b[0m \u001b[0;34m\u001b[0m\u001b[0m\n",
      "\u001b[0;31mValueError\u001b[0m: Found input variables with inconsistent numbers of samples: [53802, 4459]"
     ]
    }
   ],
   "source": [
    "print(\"Light Gradient Boosting Regressor: \")\n",
    "# t=np.log1p(target)\n",
    "\n",
    "X_train, X_val, y_train, y_val = train_test_split(df, y, test_size=0.2, random_state=0)\n",
    "\n",
    "train_data=lightgbm.Dataset(X_train,y_train)\n",
    "valid_data=lightgbm.Dataset(X_val,y_val)\n",
    "lgbm_params =  {\n",
    "    'task': 'train',\n",
    "    'boosting_type': 'gbdt',\n",
    "    'objective': 'regression',\n",
    "    'metric': 'rmse',\n",
    "    \"learning_rate\": 0.01,\n",
    "    \"num_leaves\": 180,\n",
    "    \"feature_fraction\": 0.50,\n",
    "    \"bagging_fraction\": 0.50,\n",
    "    'bagging_freq': 4,\n",
    "    \"max_depth\": -1,\n",
    "    \"reg_alpha\": 0.3,\n",
    "    \"reg_lambda\": 0.1,\n",
    "    #\"min_split_gain\":0.2,\n",
    "    \"min_child_weight\":10,\n",
    "    'zero_as_missing':True\n",
    "                }\n",
    "lgbm = lightgbm.train(lgbm_params,\n",
    "                 train_data,\n",
    "                 25000,\n",
    "                 valid_sets=valid_data,\n",
    "                 early_stopping_rounds= 80,\n",
    "                 verbose_eval= False\n",
    "                 )"
   ]
  },
  {
   "cell_type": "markdown",
   "metadata": {
    "_uuid": "5a281f230dd6d1f639c771d2b348937d619b422d"
   },
   "source": [
    "## Cross-Validation\n",
    "**Hand Tuning:**"
   ]
  },
  {
   "cell_type": "code",
   "execution_count": 4,
   "metadata": {
    "_uuid": "3e7310ab293e89b282b0e776d75bdbc3b3d1764c",
    "scrolled": false
   },
   "outputs": [
    {
     "name": "stdout",
     "output_type": "stream",
     "text": [
      "[50]\tcv_agg's rmse: 1.58742 + 0.0305161\n",
      "[100]\tcv_agg's rmse: 1.50458 + 0.0316924\n",
      "[150]\tcv_agg's rmse: 1.46337 + 0.0325538\n",
      "[200]\tcv_agg's rmse: 1.44265 + 0.0327991\n",
      "[250]\tcv_agg's rmse: 1.43354 + 0.032863\n",
      "[300]\tcv_agg's rmse: 1.43088 + 0.0337591\n",
      "[350]\tcv_agg's rmse: 1.42942 + 0.0337614\n",
      "[400]\tcv_agg's rmse: 1.43018 + 0.0342158\n",
      "\n",
      "Optimal Round: 339\n",
      "Optimal Score: 1.4292676122745214 + 0.03369025245241399\n"
     ]
    }
   ],
   "source": [
    "modelstart= time.time()\n",
    "# Find Optimal Parameters / Boosting Rounds\n",
    "lgb_cv = lgb.cv(\n",
    "    params = lgbm_params,\n",
    "    train_set = lgtrain,\n",
    "    num_boost_round=2000,\n",
    "    stratified=False,\n",
    "    nfold = 5,\n",
    "    verbose_eval=50,\n",
    "    seed = 23,\n",
    "    early_stopping_rounds=75)\n",
    "\n",
    "optimal_rounds = np.argmin(lgb_cv['rmse-mean'])\n",
    "best_cv_score = min(lgb_cv['rmse-mean'])\n",
    "\n",
    "print(\"\\nOptimal Round: {}\\nOptimal Score: {} + {}\".format(\n",
    "    optimal_rounds,best_cv_score,lgb_cv['rmse-stdv'][optimal_rounds]))\n",
    "\n",
    "results = results.append({\"Rounds\": optimal_rounds,\n",
    "                          \"Score\": best_cv_score,\n",
    "                          \"STDV\": lgb_cv['rmse-stdv'][optimal_rounds],\n",
    "                          \"LB\": None,\n",
    "                          \"Parameters\": lgbm_params}, ignore_index=True)\n",
    "if Home is True:\n",
    "    with open('results.csv', 'a') as f:\n",
    "        results.to_csv(f, header=False)"
   ]
  },
  {
   "cell_type": "code",
   "execution_count": 5,
   "metadata": {
    "_uuid": "bbe227cecd9d85db2e23da062996e287d86995aa"
   },
   "outputs": [
    {
     "data": {
      "text/html": [
       "<div>\n",
       "<style scoped>\n",
       "    .dataframe tbody tr th:only-of-type {\n",
       "        vertical-align: middle;\n",
       "    }\n",
       "\n",
       "    .dataframe tbody tr th {\n",
       "        vertical-align: top;\n",
       "    }\n",
       "\n",
       "    .dataframe thead th {\n",
       "        text-align: right;\n",
       "    }\n",
       "</style>\n",
       "<table border=\"1\" class=\"dataframe\">\n",
       "  <thead>\n",
       "    <tr style=\"text-align: right;\">\n",
       "      <th></th>\n",
       "      <th>Rounds</th>\n",
       "      <th>Score</th>\n",
       "      <th>STDV</th>\n",
       "      <th>LB</th>\n",
       "      <th>Parameters</th>\n",
       "    </tr>\n",
       "  </thead>\n",
       "  <tbody>\n",
       "    <tr>\n",
       "      <th>0</th>\n",
       "      <td>339</td>\n",
       "      <td>1.429268</td>\n",
       "      <td>0.03369</td>\n",
       "      <td>None</td>\n",
       "      <td>{'task': 'train', 'boosting_type': 'gbdt', 'objective': 'regression', 'metric': 'rmse', 'learning_rate': 0.01, 'num_leaves': 180, 'feature_fraction': 0.5, 'bagging_fraction': 0.5, 'bagging_freq': 4, 'max_depth': -1, 'reg_alpha': 0.3, 'reg_lambda': 0.1, 'min_child_weight': 10, 'zero_as_missing': True, 'verbose': 1}</td>\n",
       "    </tr>\n",
       "  </tbody>\n",
       "</table>\n",
       "</div>"
      ],
      "text/plain": [
       "  Rounds     Score     STDV    LB  \\\n",
       "0    339  1.429268  0.03369  None   \n",
       "\n",
       "                                                                                                                                                                                                                                                                                                                    Parameters  \n",
       "0  {'task': 'train', 'boosting_type': 'gbdt', 'objective': 'regression', 'metric': 'rmse', 'learning_rate': 0.01, 'num_leaves': 180, 'feature_fraction': 0.5, 'bagging_fraction': 0.5, 'bagging_freq': 4, 'max_depth': -1, 'reg_alpha': 0.3, 'reg_lambda': 0.1, 'min_child_weight': 10, 'zero_as_missing': True, 'verbose': 1}  "
      ]
     },
     "metadata": {},
     "output_type": "display_data"
    }
   ],
   "source": [
    "pd.set_option('max_colwidth', 800)\n",
    "display(results.sort_values(by=\"Score\",ascending = True))"
   ]
  },
  {
   "cell_type": "markdown",
   "metadata": {
    "_uuid": "4bc4f5e58b77f0c5b04a498f20ee566ff813622a"
   },
   "source": [
    "**Iterative Tuning:** <br>\n",
    "My current learning rate is 0.005. Say I what to see how well it's neigbors perform.."
   ]
  },
  {
   "cell_type": "code",
   "execution_count": 6,
   "metadata": {
    "_uuid": "f6b13283e701dd3297c49942d75f164e555e160e",
    "scrolled": false
   },
   "outputs": [
    {
     "name": "stdout",
     "output_type": "stream",
     "text": [
      "Learning Rate:  0.012\n",
      "[200]\tcv_agg's rmse: 1.4344 + 0.0334958\n",
      "Optimal Round: 284\n",
      "Optimal Score: 1.4287010145278027 + 0.034950291968031635\n",
      "###########################################################################################\n",
      "Learning Rate:  0.008\n",
      "[200]\tcv_agg's rmse: 1.45785 + 0.0314299\n",
      "[400]\tcv_agg's rmse: 1.42848 + 0.0341142\n",
      "Optimal Round: 445\n",
      "Optimal Score: 1.4269354837748918 + 0.0343219787670181\n",
      "###########################################################################################\n"
     ]
    }
   ],
   "source": [
    "learning_rates = [0.012,0.008]\n",
    "for param in learning_rates:\n",
    "    print(\"Learning Rate: \", param)\n",
    "    modelstart= time.time()\n",
    "    lgbm_params[\"learning_rate\"] = param\n",
    "    # Find Optimal Parameters / Boosting Rounds\n",
    "    lgb_cv = lgb.cv(\n",
    "        params = lgbm_params,\n",
    "        train_set = lgtrain,\n",
    "        num_boost_round=10000,\n",
    "        stratified=False,\n",
    "        nfold = 5,\n",
    "        verbose_eval=200,\n",
    "        seed = 23,\n",
    "        early_stopping_rounds=75)\n",
    "\n",
    "    optimal_rounds = np.argmin(lgb_cv['rmse-mean'])\n",
    "    best_cv_score = min(lgb_cv['rmse-mean'])\n",
    "\n",
    "    print(\"Optimal Round: {}\\nOptimal Score: {} + {}\".format(\n",
    "        optimal_rounds,best_cv_score,lgb_cv['rmse-stdv'][optimal_rounds]))\n",
    "    print(\"###########################################################################################\")\n",
    "\n",
    "    results = results.append({\"Rounds\": optimal_rounds,\n",
    "                              \"Score\": best_cv_score,\n",
    "                              \"STDV\": lgb_cv['rmse-stdv'][optimal_rounds],\n",
    "                              \"LB\": None,\n",
    "                              \"Parameters\": lgbm_params}, ignore_index=True)\n",
    "    if Home is True:\n",
    "        with open('results.csv', 'a') as f:\n",
    "            results.to_csv(f, header=False)\n",
    "        # results = pd.read_csv(\"results.csv\")"
   ]
  },
  {
   "cell_type": "code",
   "execution_count": 7,
   "metadata": {
    "_uuid": "0adfba411a52c4c95d1f0067466375e27367937a"
   },
   "outputs": [
    {
     "data": {
      "text/html": [
       "<div>\n",
       "<style scoped>\n",
       "    .dataframe tbody tr th:only-of-type {\n",
       "        vertical-align: middle;\n",
       "    }\n",
       "\n",
       "    .dataframe tbody tr th {\n",
       "        vertical-align: top;\n",
       "    }\n",
       "\n",
       "    .dataframe thead th {\n",
       "        text-align: right;\n",
       "    }\n",
       "</style>\n",
       "<table border=\"1\" class=\"dataframe\">\n",
       "  <thead>\n",
       "    <tr style=\"text-align: right;\">\n",
       "      <th></th>\n",
       "      <th>Rounds</th>\n",
       "      <th>Score</th>\n",
       "      <th>STDV</th>\n",
       "      <th>LB</th>\n",
       "      <th>Parameters</th>\n",
       "    </tr>\n",
       "  </thead>\n",
       "  <tbody>\n",
       "    <tr>\n",
       "      <th>2</th>\n",
       "      <td>445</td>\n",
       "      <td>1.426935</td>\n",
       "      <td>0.034322</td>\n",
       "      <td>None</td>\n",
       "      <td>{'task': 'train', 'boosting_type': 'gbdt', 'objective': 'regression', 'metric': 'rmse', 'learning_rate': 0.008, 'num_leaves': 180, 'feature_fraction': 0.5, 'bagging_fraction': 0.5, 'bagging_freq': 4, 'max_depth': -1, 'reg_alpha': 0.3, 'reg_lambda': 0.1, 'min_child_weight': 10, 'zero_as_missing': True, 'verbose': 1}</td>\n",
       "    </tr>\n",
       "    <tr>\n",
       "      <th>1</th>\n",
       "      <td>284</td>\n",
       "      <td>1.428701</td>\n",
       "      <td>0.034950</td>\n",
       "      <td>None</td>\n",
       "      <td>{'task': 'train', 'boosting_type': 'gbdt', 'objective': 'regression', 'metric': 'rmse', 'learning_rate': 0.008, 'num_leaves': 180, 'feature_fraction': 0.5, 'bagging_fraction': 0.5, 'bagging_freq': 4, 'max_depth': -1, 'reg_alpha': 0.3, 'reg_lambda': 0.1, 'min_child_weight': 10, 'zero_as_missing': True, 'verbose': 1}</td>\n",
       "    </tr>\n",
       "    <tr>\n",
       "      <th>0</th>\n",
       "      <td>339</td>\n",
       "      <td>1.429268</td>\n",
       "      <td>0.033690</td>\n",
       "      <td>None</td>\n",
       "      <td>{'task': 'train', 'boosting_type': 'gbdt', 'objective': 'regression', 'metric': 'rmse', 'learning_rate': 0.008, 'num_leaves': 180, 'feature_fraction': 0.5, 'bagging_fraction': 0.5, 'bagging_freq': 4, 'max_depth': -1, 'reg_alpha': 0.3, 'reg_lambda': 0.1, 'min_child_weight': 10, 'zero_as_missing': True, 'verbose': 1}</td>\n",
       "    </tr>\n",
       "  </tbody>\n",
       "</table>\n",
       "</div>"
      ],
      "text/plain": [
       "  Rounds     Score      STDV    LB  \\\n",
       "2    445  1.426935  0.034322  None   \n",
       "1    284  1.428701  0.034950  None   \n",
       "0    339  1.429268  0.033690  None   \n",
       "\n",
       "                                                                                                                                                                                                                                                                                                                     Parameters  \n",
       "2  {'task': 'train', 'boosting_type': 'gbdt', 'objective': 'regression', 'metric': 'rmse', 'learning_rate': 0.008, 'num_leaves': 180, 'feature_fraction': 0.5, 'bagging_fraction': 0.5, 'bagging_freq': 4, 'max_depth': -1, 'reg_alpha': 0.3, 'reg_lambda': 0.1, 'min_child_weight': 10, 'zero_as_missing': True, 'verbose': 1}  \n",
       "1  {'task': 'train', 'boosting_type': 'gbdt', 'objective': 'regression', 'metric': 'rmse', 'learning_rate': 0.008, 'num_leaves': 180, 'feature_fraction': 0.5, 'bagging_fraction': 0.5, 'bagging_freq': 4, 'max_depth': -1, 'reg_alpha': 0.3, 'reg_lambda': 0.1, 'min_child_weight': 10, 'zero_as_missing': True, 'verbose': 1}  \n",
       "0  {'task': 'train', 'boosting_type': 'gbdt', 'objective': 'regression', 'metric': 'rmse', 'learning_rate': 0.008, 'num_leaves': 180, 'feature_fraction': 0.5, 'bagging_fraction': 0.5, 'bagging_freq': 4, 'max_depth': -1, 'reg_alpha': 0.3, 'reg_lambda': 0.1, 'min_child_weight': 10, 'zero_as_missing': True, 'verbose': 1}  "
      ]
     },
     "metadata": {},
     "output_type": "display_data"
    }
   ],
   "source": [
    "pd.set_option('max_colwidth', 800)\n",
    "display(results.sort_values(by=\"Score\",ascending = True))"
   ]
  },
  {
   "cell_type": "markdown",
   "metadata": {
    "_uuid": "efb5bb129aac2718351d80548420f6c352397515"
   },
   "source": [
    "## Final Model and Seed Diversification\n",
    "Out-of-Fold Methods are very poplular in public kernels at the moment. This is a alternative that operates in a similar way. Instead of explicitly dividing the data, the randomized seed changes the row and column subsampling choice which also forces the model to do without some data to achieve a more diverse, robust prediction."
   ]
  },
  {
   "cell_type": "code",
   "execution_count": 8,
   "metadata": {
    "_uuid": "efbb975ccab79d7a6ee7b58522561e1cffea4cdd"
   },
   "outputs": [
    {
     "name": "stdout",
     "output_type": "stream",
     "text": [
      "Parameters for Final Models:\n",
      " {'task': 'train', 'boosting_type': 'gbdt', 'objective': 'regression', 'metric': 'rmse', 'learning_rate': 0.008, 'num_leaves': 180, 'feature_fraction': 0.5, 'bagging_fraction': 0.5, 'bagging_freq': 4, 'max_depth': -1, 'reg_alpha': 0.3, 'reg_lambda': 0.1, 'min_child_weight': 10, 'zero_as_missing': True, 'verbose': 1}\n",
      "Score: 1.4269354837748918 +/- 0.0343219787670181\n",
      "Rounds:  445\n"
     ]
    }
   ],
   "source": [
    "# Best Parameters\n",
    "final_model_params = results.iloc[results[\"Score\"].idxmin(),:][\"Parameters\"]\n",
    "optimal_rounds = results.iloc[results[\"Score\"].idxmin(),:][\"Rounds\"]\n",
    "print(\"Parameters for Final Models:\\n\",final_model_params)\n",
    "print(\"Score: {} +/- {}\".format(results.iloc[results[\"Score\"].idxmin(),:][\"Score\"],results.iloc[results[\"Score\"].idxmin(),:][\"STDV\"]))\n",
    "print(\"Rounds: \", optimal_rounds)"
   ]
  },
  {
   "cell_type": "code",
   "execution_count": 9,
   "metadata": {
    "_uuid": "edc3c22d262c30208c0605cd0ab37d49f11dd18b",
    "scrolled": false
   },
   "outputs": [
    {
     "name": "stdout",
     "output_type": "stream",
     "text": [
      "Seed:  27\n",
      "Model Runtime: 0.54 Minutes\n",
      "###########################################################################################\n",
      "Seed:  22\n",
      "Model Runtime: 0.53 Minutes\n",
      "###########################################################################################\n",
      "Seed:  300\n",
      "Model Runtime: 0.54 Minutes\n",
      "###########################################################################################\n",
      "Seed:  401\n",
      "Model Runtime: 0.53 Minutes\n",
      "###########################################################################################\n"
     ]
    },
    {
     "name": "stderr",
     "output_type": "stream",
     "text": [
      "/Users/longcheng/anaconda3/lib/python3.6/site-packages/seaborn/categorical.py:1460: FutureWarning: remove_na is deprecated and is a private function. Do not use.\n",
      "  stat_data = remove_na(group_data)\n"
     ]
    },
    {
     "name": "stdout",
     "output_type": "stream",
     "text": [
      "All Model Runtime: 2.17 Minutes\n"
     ]
    },
    {
     "data": {
      "image/png": "[encoded data removed]",
      "text/plain": [
       "<matplotlib.figure.Figure at 0x1102d5c18>"
      ]
     },
     "metadata": {},
     "output_type": "display_data"
    },
    {
     "data": {
      "image/png": "[encoded data removed]",
      "text/plain": [
       "<matplotlib.figure.Figure at 0x1a31e80cf8>"
      ]
     },
     "metadata": {},
     "output_type": "display_data"
    }
   ],
   "source": [
    "allmodelstart= time.time()\n",
    "# Run Model with different Seeds\n",
    "multi_seed_pred = dict()\n",
    "all_feature_importance_df  = pd.DataFrame()\n",
    "\n",
    "all_seeds = [27,22,300,401]\n",
    "for seeds_x in all_seeds:\n",
    "    modelstart= time.time()\n",
    "    print(\"Seed: \", seeds_x,)\n",
    "    # Go Go Go\n",
    "    final_model_params[\"seed\"] = seeds_x\n",
    "    lgb_reg = lgb.train(\n",
    "        final_model_params,\n",
    "        lgtrain,\n",
    "        num_boost_round = optimal_rounds + 1,\n",
    "        verbose_eval=200)\n",
    "\n",
    "    # Feature Importance\n",
    "    fold_importance_df = pd.DataFrame()\n",
    "    fold_importance_df[\"feature\"] = vocab\n",
    "    fold_importance_df[\"importance\"] = lgb_reg.feature_importance()\n",
    "    all_feature_importance_df = pd.concat([all_feature_importance_df, fold_importance_df], axis=0)\n",
    "\n",
    "    multi_seed_pred[seeds_x] =  list(lgb_reg.predict(test_df))\n",
    "    print(\"Model Runtime: %0.2f Minutes\"%((time.time() - modelstart)/60))\n",
    "    print(\"###########################################################################################\")\n",
    "    del lgb_reg\n",
    "\n",
    "cols = all_feature_importance_df[[\"feature\", \"importance\"]].groupby(\"feature\").mean().sort_values(\n",
    "    by=\"importance\", ascending=False)[:50].index\n",
    "best_features = all_feature_importance_df.loc[all_feature_importance_df.feature.isin(cols)]\n",
    "plt.figure(figsize=(8,10))\n",
    "sns.barplot(x=\"importance\", y=\"feature\", \n",
    "            data=best_features.sort_values(by=\"importance\", ascending=False))\n",
    "plt.title('LightGBM Features (avg over folds)')\n",
    "plt.tight_layout()\n",
    "plt.savefig('lgbm_importances.png')\n",
    "print(\"All Model Runtime: %0.2f Minutes\"%((time.time() - allmodelstart)/60))\n",
    "\n",
    "# To DataFrame\n",
    "sub_preds = pd.DataFrame.from_dict(multi_seed_pred).replace(0,0.000001)\n",
    "del multi_seed_pred; gc.collect();\n",
    "\n",
    "# Correlation Plot\n",
    "f, ax = plt.subplots(figsize=[8,6])\n",
    "sns.heatmap(sub_preds.corr(),\n",
    "            annot=True, fmt=\".2f\",cbar_kws={'label': 'Percentage %'},cmap=\"plasma\",ax=ax)\n",
    "ax.set_title(\"Correlation Plot for Seed Diversified Models\")\n",
    "plt.show()"
   ]
  },
  {
   "cell_type": "code",
   "execution_count": 10,
   "metadata": {
    "_uuid": "09ba793908334d80e1e470dbb371991846fbec0f"
   },
   "outputs": [
    {
     "name": "stdout",
     "output_type": "stream",
     "text": [
      "Notebook Runtime: 11.16 Minutes\n"
     ]
    },
    {
     "data": {
      "text/plain": [
       "ID\n",
       "000137c73    2.003937e+06\n",
       "00021489f    2.098791e+06\n",
       "0004d7953    2.182194e+06\n",
       "00056a333    6.760017e+06\n",
       "00056d8eb    2.315268e+06\n",
       "Name: target, dtype: float64"
      ]
     },
     "execution_count": 10,
     "metadata": {},
     "output_type": "execute_result"
    }
   ],
   "source": [
    "# Take Mean over Seed prediction\n",
    "mean_sub = np.expm1(sub_preds.mean(axis=1).rename(target_var))\n",
    "mean_sub.index = testdex\n",
    "\n",
    "# Submit\n",
    "mean_sub.to_csv('mean_sub_ep{}_sc{}.csv'.format(optimal_rounds,round(best_cv_score,5))\n",
    "            ,index = True, header=True)\n",
    "print(\"Notebook Runtime: %0.2f Minutes\"%((time.time() - notebookstart)/60))\n",
    "mean_sub.head()"
   ]
  },
  {
   "cell_type": "code",
   "execution_count": null,
   "metadata": {
    "_uuid": "b47a3211671ee44a0e2e128730d4bf9587c375bc",
    "collapsed": true
   },
   "outputs": [],
   "source": []
  }
 ],
 "metadata": {
  "kernelspec": {
   "display_name": "Python 3",
   "language": "python",
   "name": "python3"
  },
  "language_info": {
   "codemirror_mode": {
    "name": "ipython",
    "version": 3
   },
   "file_extension": ".py",
   "mimetype": "text/x-python",
   "name": "python",
   "nbconvert_exporter": "python",
   "pygments_lexer": "ipython3",
   "version": "3.6.3"
  }
 },
 "nbformat": 4,
 "nbformat_minor": 1
}
